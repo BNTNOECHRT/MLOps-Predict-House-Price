{
 "cells": [
  {
   "cell_type": "code",
   "execution_count": 13,
   "id": "c8cb1461",
   "metadata": {},
   "outputs": [],
   "source": [
    "import pandas as pd\n",
    "import numpy as np\n",
    "\n",
    "import xgboost as xgb\n",
    "\n",
    "from sklearn.datasets import fetch_california_housing\n",
    "from sklearn.model_selection import train_test_split\n",
    "\n",
    "import pickle\n",
    "import joblib"
   ]
  },
  {
   "cell_type": "code",
   "execution_count": 2,
   "id": "6848f41a",
   "metadata": {},
   "outputs": [],
   "source": [
    "seed = 42"
   ]
  },
  {
   "cell_type": "code",
   "execution_count": 3,
   "id": "f2f0dc88",
   "metadata": {},
   "outputs": [],
   "source": [
    "california_housing = fetch_california_housing(as_frame=True)"
   ]
  },
  {
   "cell_type": "code",
   "execution_count": 6,
   "id": "b3f886e3",
   "metadata": {
    "scrolled": true
   },
   "outputs": [
    {
     "name": "stdout",
     "output_type": "stream",
     "text": [
      "<class 'pandas.core.frame.DataFrame'>\n",
      "RangeIndex: 20640 entries, 0 to 20639\n",
      "Data columns (total 8 columns):\n",
      " #   Column      Non-Null Count  Dtype  \n",
      "---  ------      --------------  -----  \n",
      " 0   MedInc      20640 non-null  float64\n",
      " 1   HouseAge    20640 non-null  float64\n",
      " 2   AveRooms    20640 non-null  float64\n",
      " 3   AveBedrms   20640 non-null  float64\n",
      " 4   Population  20640 non-null  float64\n",
      " 5   AveOccup    20640 non-null  float64\n",
      " 6   Latitude    20640 non-null  float64\n",
      " 7   Longitude   20640 non-null  float64\n",
      "dtypes: float64(8)\n",
      "memory usage: 1.3 MB\n"
     ]
    }
   ],
   "source": [
    "california_housing.data.info()"
   ]
  },
  {
   "cell_type": "code",
   "execution_count": 7,
   "id": "f15c1ae8",
   "metadata": {},
   "outputs": [
    {
     "data": {
      "text/plain": [
       "0        4.526\n",
       "1        3.585\n",
       "2        3.521\n",
       "3        3.413\n",
       "4        3.422\n",
       "         ...  \n",
       "20635    0.781\n",
       "20636    0.771\n",
       "20637    0.923\n",
       "20638    0.847\n",
       "20639    0.894\n",
       "Name: MedHouseVal, Length: 20640, dtype: float64"
      ]
     },
     "execution_count": 7,
     "metadata": {},
     "output_type": "execute_result"
    }
   ],
   "source": [
    "california_housing.target"
   ]
  },
  {
   "cell_type": "code",
   "execution_count": 8,
   "id": "e91ac033",
   "metadata": {},
   "outputs": [],
   "source": [
    "X_train, X_test, y_train, y_test = train_test_split(california_housing.data, california_housing.target, test_size=0.333, random_state = seed)"
   ]
  },
  {
   "cell_type": "code",
   "execution_count": 9,
   "id": "6e90b221",
   "metadata": {},
   "outputs": [
    {
     "name": "stdout",
     "output_type": "stream",
     "text": [
      "[0]\ttrain-rmse:1.89387\teval-rmse:1.89985\n",
      "[500]\ttrain-rmse:0.23178\teval-rmse:0.45522\n",
      "[1000]\ttrain-rmse:0.14289\teval-rmse:0.44902\n",
      "[1170]\ttrain-rmse:0.12298\teval-rmse:0.44885\n"
     ]
    }
   ],
   "source": [
    "params = {\n",
    "    #\"booster\": \"gbtree\",\n",
    "    \"nthread\": 8,\n",
    "    \"eta\": 0.03,\n",
    "    \"max_depth\": 8,\n",
    "    \"objective\": \"reg:squarederror\",\n",
    "    \"subsample\": 0.5,\n",
    "    \"eval_metric\": \"rmse\",\n",
    "    \"random_state\": seed\n",
    "}\n",
    "\n",
    "progress = dict()\n",
    "d_train = xgb.DMatrix(X_train, label = y_train)\n",
    "d_test = xgb.DMatrix(X_test, label = y_test)\n",
    "\n",
    "watchlist  = [(d_train,'train'), (d_test, 'eval')]\n",
    "\n",
    "#XGB_model = xgb.train(params, d_train, 50000, evals = [(d_test, \"test\")], verbose_eval=500, early_stopping_rounds=100)\n",
    "XGB_model = xgb.train(params, d_train, 50000, watchlist, evals_result = progress,  verbose_eval=500, early_stopping_rounds=100)"
   ]
  },
  {
   "cell_type": "code",
   "execution_count": 11,
   "id": "724320a7",
   "metadata": {},
   "outputs": [],
   "source": [
    "XGB_model.save_model(\"my_model.json\")"
   ]
  },
  {
   "cell_type": "code",
   "execution_count": 12,
   "id": "2cae1418",
   "metadata": {},
   "outputs": [],
   "source": [
    "filename = 'xgb_model.sav'\n",
    "pickle.dump(XGB_model, open(filename, 'wb'))"
   ]
  },
  {
   "cell_type": "code",
   "execution_count": 14,
   "id": "1820819d",
   "metadata": {},
   "outputs": [],
   "source": [
    "model = joblib.load(\"my_XGB_model.joblib\")"
   ]
  },
  {
   "cell_type": "code",
   "execution_count": 46,
   "id": "61f7c0e6",
   "metadata": {},
   "outputs": [],
   "source": [
    "test = X_train.iloc[0]"
   ]
  },
  {
   "cell_type": "code",
   "execution_count": 72,
   "id": "b158011e",
   "metadata": {},
   "outputs": [],
   "source": [
    "train = pd.DataFrame(test).T"
   ]
  },
  {
   "cell_type": "code",
   "execution_count": 94,
   "id": "a0c41b34",
   "metadata": {},
   "outputs": [
    {
     "data": {
      "text/html": [
       "<div>\n",
       "<style scoped>\n",
       "    .dataframe tbody tr th:only-of-type {\n",
       "        vertical-align: middle;\n",
       "    }\n",
       "\n",
       "    .dataframe tbody tr th {\n",
       "        vertical-align: top;\n",
       "    }\n",
       "\n",
       "    .dataframe thead th {\n",
       "        text-align: right;\n",
       "    }\n",
       "</style>\n",
       "<table border=\"1\" class=\"dataframe\">\n",
       "  <thead>\n",
       "    <tr style=\"text-align: right;\">\n",
       "      <th></th>\n",
       "      <th>MedInc</th>\n",
       "      <th>HouseAge</th>\n",
       "      <th>AveRooms</th>\n",
       "      <th>AveBedrms</th>\n",
       "      <th>Population</th>\n",
       "      <th>AveOccup</th>\n",
       "      <th>Latitude</th>\n",
       "      <th>Longitude</th>\n",
       "    </tr>\n",
       "  </thead>\n",
       "  <tbody>\n",
       "    <tr>\n",
       "      <th>15462</th>\n",
       "      <td>3.625</td>\n",
       "      <td>6.0</td>\n",
       "      <td>4.618012</td>\n",
       "      <td>1.124224</td>\n",
       "      <td>810.0</td>\n",
       "      <td>2.515528</td>\n",
       "      <td>33.17</td>\n",
       "      <td>-117.22</td>\n",
       "    </tr>\n",
       "  </tbody>\n",
       "</table>\n",
       "</div>"
      ],
      "text/plain": [
       "       MedInc  HouseAge  AveRooms  AveBedrms  Population  AveOccup  Latitude  \\\n",
       "15462   3.625       6.0  4.618012   1.124224       810.0  2.515528     33.17   \n",
       "\n",
       "       Longitude  \n",
       "15462    -117.22  "
      ]
     },
     "execution_count": 94,
     "metadata": {},
     "output_type": "execute_result"
    }
   ],
   "source": []
  },
  {
   "cell_type": "code",
   "execution_count": 48,
   "id": "f66adf2c",
   "metadata": {},
   "outputs": [],
   "source": [
    "true = y_train.iloc[0]"
   ]
  },
  {
   "cell_type": "code",
   "execution_count": 97,
   "id": "3ed70734",
   "metadata": {},
   "outputs": [],
   "source": [
    "model_xgb2 = xgb.Booster()"
   ]
  },
  {
   "cell_type": "code",
   "execution_count": 106,
   "id": "c07303e6",
   "metadata": {},
   "outputs": [],
   "source": [
    "model_xgb2.load_model(\"my_model.json\")"
   ]
  },
  {
   "cell_type": "code",
   "execution_count": 107,
   "id": "a1cb8a93",
   "metadata": {},
   "outputs": [
    {
     "name": "stdout",
     "output_type": "stream",
     "text": [
      "<xgboost.core.Booster object at 0x000001EE9B9A6EB0>\n"
     ]
    }
   ],
   "source": [
    "print(model_xgb2)"
   ]
  },
  {
   "cell_type": "code",
   "execution_count": 96,
   "id": "5913ced1",
   "metadata": {},
   "outputs": [
    {
     "data": {
      "text/plain": [
       "1.5040373802185059"
      ]
     },
     "execution_count": 96,
     "metadata": {},
     "output_type": "execute_result"
    }
   ],
   "source": [
    "predicted_values = model_xgb2.predict(xgb.DMatrix(train))\n",
    "\n",
    "float(predicted_values[0])"
   ]
  },
  {
   "cell_type": "code",
   "execution_count": 88,
   "id": "3b5bf6a9",
   "metadata": {},
   "outputs": [],
   "source": [
    "donner = [4,3,1,2,5,4,6,7]\n",
    "cols = list(fetch_california_housing(as_frame = True).data.columns)"
   ]
  },
  {
   "cell_type": "code",
   "execution_count": 89,
   "id": "9c03fc35",
   "metadata": {},
   "outputs": [],
   "source": [
    "final = np.array(donner)"
   ]
  },
  {
   "cell_type": "code",
   "execution_count": 91,
   "id": "0581318a",
   "metadata": {},
   "outputs": [],
   "source": [
    "data_unseen = pd.DataFrame([final], columns = cols)"
   ]
  },
  {
   "cell_type": "code",
   "execution_count": 93,
   "id": "0549c282",
   "metadata": {},
   "outputs": [
    {
     "data": {
      "text/html": [
       "<div>\n",
       "<style scoped>\n",
       "    .dataframe tbody tr th:only-of-type {\n",
       "        vertical-align: middle;\n",
       "    }\n",
       "\n",
       "    .dataframe tbody tr th {\n",
       "        vertical-align: top;\n",
       "    }\n",
       "\n",
       "    .dataframe thead th {\n",
       "        text-align: right;\n",
       "    }\n",
       "</style>\n",
       "<table border=\"1\" class=\"dataframe\">\n",
       "  <thead>\n",
       "    <tr style=\"text-align: right;\">\n",
       "      <th></th>\n",
       "      <th>MedInc</th>\n",
       "      <th>HouseAge</th>\n",
       "      <th>AveRooms</th>\n",
       "      <th>AveBedrms</th>\n",
       "      <th>Population</th>\n",
       "      <th>AveOccup</th>\n",
       "      <th>Latitude</th>\n",
       "      <th>Longitude</th>\n",
       "    </tr>\n",
       "  </thead>\n",
       "  <tbody>\n",
       "    <tr>\n",
       "      <th>0</th>\n",
       "      <td>4</td>\n",
       "      <td>3</td>\n",
       "      <td>1</td>\n",
       "      <td>2</td>\n",
       "      <td>5</td>\n",
       "      <td>4</td>\n",
       "      <td>6</td>\n",
       "      <td>7</td>\n",
       "    </tr>\n",
       "  </tbody>\n",
       "</table>\n",
       "</div>"
      ],
      "text/plain": [
       "   MedInc  HouseAge  AveRooms  AveBedrms  Population  AveOccup  Latitude  \\\n",
       "0       4         3         1          2           5         4         6   \n",
       "\n",
       "   Longitude  \n",
       "0          7  "
      ]
     },
     "execution_count": 93,
     "metadata": {},
     "output_type": "execute_result"
    }
   ],
   "source": [
    "data_unseen"
   ]
  },
  {
   "cell_type": "code",
   "execution_count": null,
   "id": "19f98f93",
   "metadata": {},
   "outputs": [],
   "source": []
  },
  {
   "cell_type": "code",
   "execution_count": null,
   "id": "3eacd0a3",
   "metadata": {},
   "outputs": [],
   "source": []
  }
 ],
 "metadata": {
  "kernelspec": {
   "display_name": "Python 3 (ipykernel)",
   "language": "python",
   "name": "python3"
  },
  "language_info": {
   "codemirror_mode": {
    "name": "ipython",
    "version": 3
   },
   "file_extension": ".py",
   "mimetype": "text/x-python",
   "name": "python",
   "nbconvert_exporter": "python",
   "pygments_lexer": "ipython3",
   "version": "3.9.7"
  }
 },
 "nbformat": 4,
 "nbformat_minor": 5
}
